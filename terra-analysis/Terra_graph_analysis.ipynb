{
 "cells": [
  {
   "cell_type": "code",
   "execution_count": 1,
   "id": "3fb99a7d-46a2-4631-bd8c-9bba4774ddaa",
   "metadata": {
    "tags": []
   },
   "outputs": [],
   "source": [
    "import pandas as pd\n",
    "import matplotlib.pyplot as plt\n",
    "from terra_modules.terra_utils import get_graph_metrics"
   ]
  },
  {
   "cell_type": "code",
   "execution_count": null,
   "metadata": {},
   "outputs": [],
   "source": []
  },
  {
   "cell_type": "markdown",
   "id": "6cef096e-6ab6-4c32-83f2-1dc57005a103",
   "metadata": {},
   "source": [
    "## Parameters"
   ]
  },
  {
   "cell_type": "code",
   "execution_count": 2,
   "id": "65d1392f-0a5d-407d-bfd4-ff8466196aa9",
   "metadata": {
    "tags": []
   },
   "outputs": [],
   "source": [
    "# Dataset Graph EU - Extra EU\n",
    "# dataset = \"Extra\"\n",
    "\n",
    "# Dataset Graph EU - World\n",
    "dataset = \"Intra\"\n",
    "\n",
    "# Monthly data  \n",
    "frequency = \"month\"\n",
    "\n",
    "# Quarterly data\n",
    "# frequency = \"quarter\"\n",
    "\n",
    "start_date = \"2022-01\"\n",
    "end_date   = \"2022-12\"\n",
    "\n",
    "# Products Graph EU - Extra EU\n",
    "# https://api.terra.istat.it/cls/productsExtra?lang=en\n",
    "\n",
    "# Products Graph EU - World\n",
    "# https://api.terra.istat.it/cls/productsIntra?lang=en\n",
    "\n",
    "# Means of transport Graph EU - Extra EU\n",
    "# https://api.terra.istat.it/cls/transports?lang=en\n",
    "\n",
    "\n",
    "# Base payload\n",
    "base_payload = {\n",
    "    \"tg_perc\": \"80\",\n",
    "    \"listaMezzi\": [0, 1, 2, 3, 4, 5, 7, 8, 9], # means of transport\n",
    "    \"product\": \"TOT\",\n",
    "    \"flow\": 1, #import = 1, #export = 2\n",
    "    \"weight_flag\": True,\n",
    "    \"pos\": \"None\",\n",
    "    \"selezioneMezziEdges\": \"None\"\n",
    "}\n"
   ]
  },
  {
   "cell_type": "markdown",
   "id": "53654505-8f74-4f59-a228-fbd09769fc7e",
   "metadata": {},
   "source": [
    "## Get graph metrics from TERRA endpoints, then build the metrics dataframe"
   ]
  },
  {
   "cell_type": "code",
   "execution_count": 3,
   "id": "eb7d2677-a889-4a7a-81a2-64dd7dfe8eb8",
   "metadata": {
    "tags": []
   },
   "outputs": [
    {
     "name": "stdout",
     "output_type": "stream",
     "text": [
      "Retrieving Intra data\n",
      "Endpoint: https://api.terra.istat.it/graph/graphIntraMonth\n",
      "Time points: ['202201', '202202', '202203', '202204', '202205', '202206', '202207', '202208', '202209', '202210', '202211', '202212']\n",
      "Starting data retrieval...\n",
      "   Retrieving data for month 202201\n",
      "   Retrieving data for month 202202\n",
      "   Retrieving data for month 202203\n",
      "   Retrieving data for month 202204\n",
      "   Retrieving data for month 202205\n",
      "   Retrieving data for month 202206\n",
      "   Retrieving data for month 202207\n",
      "   Retrieving data for month 202208\n",
      "   Retrieving data for month 202209\n",
      "   Retrieving data for month 202210\n",
      "   Retrieving data for month 202211\n",
      "   Retrieving data for month 202212\n",
      "... done!\n"
     ]
    }
   ],
   "source": [
    "df_metrics = get_graph_metrics(dataset, base_payload, start_date, end_date, frequency)"
   ]
  },
  {
   "cell_type": "code",
   "execution_count": 4,
   "metadata": {},
   "outputs": [
    {
     "data": {
      "text/html": [
       "<div>\n",
       "<style scoped>\n",
       "    .dataframe tbody tr th:only-of-type {\n",
       "        vertical-align: middle;\n",
       "    }\n",
       "\n",
       "    .dataframe tbody tr th {\n",
       "        vertical-align: top;\n",
       "    }\n",
       "\n",
       "    .dataframe thead th {\n",
       "        text-align: right;\n",
       "    }\n",
       "</style>\n",
       "<table border=\"1\" class=\"dataframe\">\n",
       "  <thead>\n",
       "    <tr style=\"text-align: right;\">\n",
       "      <th></th>\n",
       "      <th>country</th>\n",
       "      <th>degree_centrality</th>\n",
       "      <th>vulnerability</th>\n",
       "      <th>exportation_strength</th>\n",
       "      <th>hubness</th>\n",
       "      <th>period</th>\n",
       "    </tr>\n",
       "  </thead>\n",
       "  <tbody>\n",
       "    <tr>\n",
       "      <th>0</th>\n",
       "      <td>NL</td>\n",
       "      <td>0.82</td>\n",
       "      <td>0.44</td>\n",
       "      <td>0.099286</td>\n",
       "      <td>0.694444</td>\n",
       "      <td>202201</td>\n",
       "    </tr>\n",
       "    <tr>\n",
       "      <th>1</th>\n",
       "      <td>DE</td>\n",
       "      <td>1.18</td>\n",
       "      <td>0.24</td>\n",
       "      <td>0.156718</td>\n",
       "      <td>0.847458</td>\n",
       "      <td>202201</td>\n",
       "    </tr>\n",
       "    <tr>\n",
       "      <th>2</th>\n",
       "      <td>CN</td>\n",
       "      <td>0.34</td>\n",
       "      <td>0.00</td>\n",
       "      <td>0.121247</td>\n",
       "      <td>0.602410</td>\n",
       "      <td>202201</td>\n",
       "    </tr>\n",
       "    <tr>\n",
       "      <th>3</th>\n",
       "      <td>FR</td>\n",
       "      <td>0.70</td>\n",
       "      <td>0.52</td>\n",
       "      <td>0.052174</td>\n",
       "      <td>0.649351</td>\n",
       "      <td>202201</td>\n",
       "    </tr>\n",
       "    <tr>\n",
       "      <th>4</th>\n",
       "      <td>BE</td>\n",
       "      <td>0.58</td>\n",
       "      <td>0.62</td>\n",
       "      <td>0.059914</td>\n",
       "      <td>0.632911</td>\n",
       "      <td>202201</td>\n",
       "    </tr>\n",
       "  </tbody>\n",
       "</table>\n",
       "</div>"
      ],
      "text/plain": [
       "  country  degree_centrality  vulnerability  exportation_strength   hubness  \\\n",
       "0      NL               0.82           0.44              0.099286  0.694444   \n",
       "1      DE               1.18           0.24              0.156718  0.847458   \n",
       "2      CN               0.34           0.00              0.121247  0.602410   \n",
       "3      FR               0.70           0.52              0.052174  0.649351   \n",
       "4      BE               0.58           0.62              0.059914  0.632911   \n",
       "\n",
       "   period  \n",
       "0  202201  \n",
       "1  202201  \n",
       "2  202201  \n",
       "3  202201  \n",
       "4  202201  "
      ]
     },
     "execution_count": 4,
     "metadata": {},
     "output_type": "execute_result"
    }
   ],
   "source": [
    "df_metrics.head()"
   ]
  },
  {
   "cell_type": "code",
   "execution_count": 5,
   "metadata": {},
   "outputs": [
    {
     "data": {
      "text/plain": [
       "(662, 6)"
      ]
     },
     "execution_count": 5,
     "metadata": {},
     "output_type": "execute_result"
    }
   ],
   "source": [
    "df_metrics.shape"
   ]
  },
  {
   "cell_type": "code",
   "execution_count": 20,
   "id": "de1ad384-6ae7-40ed-826e-95881c197bd4",
   "metadata": {
    "tags": []
   },
   "outputs": [],
   "source": [
    "countries = df_metrics[\"country\"].unique()"
   ]
  },
  {
   "cell_type": "code",
   "execution_count": 21,
   "id": "470f434a-4546-4474-9501-ecaa3de9cab0",
   "metadata": {
    "tags": []
   },
   "outputs": [
    {
     "data": {
      "text/plain": [
       "array(['US', 'ES', 'FR', 'RU', 'QA', 'IT', 'BE', 'NG', 'DZ', 'HR', 'PT',\n",
       "       'GR', 'EG', 'AO', 'NL', 'GQ', 'GB', 'LT', 'TT', 'NO', 'BG'],\n",
       "      dtype=object)"
      ]
     },
     "metadata": {},
     "output_type": "display_data"
    }
   ],
   "source": [
    "display(countries)"
   ]
  },
  {
   "cell_type": "code",
   "execution_count": 4,
   "id": "3e20fcba-650b-42cf-87cb-11bead00f4d5",
   "metadata": {
    "tags": []
   },
   "outputs": [],
   "source": [
    "df_country_metrics = df_metrics[df_metrics[\"country\"]==\"RU\"]"
   ]
  },
  {
   "cell_type": "code",
   "execution_count": 5,
   "id": "57b03b5e-501b-42e6-9d85-c97df82e658e",
   "metadata": {
    "tags": []
   },
   "outputs": [
    {
     "data": {
      "text/html": [
       "<div>\n",
       "<style scoped>\n",
       "    .dataframe tbody tr th:only-of-type {\n",
       "        vertical-align: middle;\n",
       "    }\n",
       "\n",
       "    .dataframe tbody tr th {\n",
       "        vertical-align: top;\n",
       "    }\n",
       "\n",
       "    .dataframe thead th {\n",
       "        text-align: right;\n",
       "    }\n",
       "</style>\n",
       "<table border=\"1\" class=\"dataframe\">\n",
       "  <thead>\n",
       "    <tr style=\"text-align: right;\">\n",
       "      <th></th>\n",
       "      <th>country</th>\n",
       "      <th>degree_centrality</th>\n",
       "      <th>vulnerability</th>\n",
       "      <th>exportation_strength</th>\n",
       "      <th>hubness</th>\n",
       "      <th>period</th>\n",
       "    </tr>\n",
       "  </thead>\n",
       "  <tbody>\n",
       "    <tr>\n",
       "      <th>13</th>\n",
       "      <td>RU</td>\n",
       "      <td>0.280000</td>\n",
       "      <td>0.0</td>\n",
       "      <td>0.046314</td>\n",
       "      <td>0.581395</td>\n",
       "      <td>202201</td>\n",
       "    </tr>\n",
       "    <tr>\n",
       "      <th>65</th>\n",
       "      <td>RU</td>\n",
       "      <td>0.306122</td>\n",
       "      <td>0.0</td>\n",
       "      <td>0.046614</td>\n",
       "      <td>0.590361</td>\n",
       "      <td>202202</td>\n",
       "    </tr>\n",
       "    <tr>\n",
       "      <th>113</th>\n",
       "      <td>RU</td>\n",
       "      <td>0.269231</td>\n",
       "      <td>0.0</td>\n",
       "      <td>0.044201</td>\n",
       "      <td>0.571429</td>\n",
       "      <td>202203</td>\n",
       "    </tr>\n",
       "    <tr>\n",
       "      <th>169</th>\n",
       "      <td>RU</td>\n",
       "      <td>0.259259</td>\n",
       "      <td>0.0</td>\n",
       "      <td>0.041693</td>\n",
       "      <td>0.568421</td>\n",
       "      <td>202204</td>\n",
       "    </tr>\n",
       "    <tr>\n",
       "      <th>224</th>\n",
       "      <td>RU</td>\n",
       "      <td>0.232143</td>\n",
       "      <td>0.0</td>\n",
       "      <td>0.034083</td>\n",
       "      <td>0.549020</td>\n",
       "      <td>202205</td>\n",
       "    </tr>\n",
       "    <tr>\n",
       "      <th>280</th>\n",
       "      <td>RU</td>\n",
       "      <td>0.222222</td>\n",
       "      <td>0.0</td>\n",
       "      <td>0.033035</td>\n",
       "      <td>0.556701</td>\n",
       "      <td>202206</td>\n",
       "    </tr>\n",
       "    <tr>\n",
       "      <th>335</th>\n",
       "      <td>RU</td>\n",
       "      <td>0.185185</td>\n",
       "      <td>0.0</td>\n",
       "      <td>0.030648</td>\n",
       "      <td>0.540000</td>\n",
       "      <td>202207</td>\n",
       "    </tr>\n",
       "    <tr>\n",
       "      <th>393</th>\n",
       "      <td>RU</td>\n",
       "      <td>0.192982</td>\n",
       "      <td>0.0</td>\n",
       "      <td>0.027809</td>\n",
       "      <td>0.537736</td>\n",
       "      <td>202208</td>\n",
       "    </tr>\n",
       "    <tr>\n",
       "      <th>454</th>\n",
       "      <td>RU</td>\n",
       "      <td>0.181818</td>\n",
       "      <td>0.0</td>\n",
       "      <td>0.022698</td>\n",
       "      <td>0.539216</td>\n",
       "      <td>202209</td>\n",
       "    </tr>\n",
       "    <tr>\n",
       "      <th>515</th>\n",
       "      <td>RU</td>\n",
       "      <td>0.200000</td>\n",
       "      <td>0.0</td>\n",
       "      <td>0.022992</td>\n",
       "      <td>0.544554</td>\n",
       "      <td>202210</td>\n",
       "    </tr>\n",
       "    <tr>\n",
       "      <th>573</th>\n",
       "      <td>RU</td>\n",
       "      <td>0.206897</td>\n",
       "      <td>0.0</td>\n",
       "      <td>0.021359</td>\n",
       "      <td>0.552381</td>\n",
       "      <td>202211</td>\n",
       "    </tr>\n",
       "    <tr>\n",
       "      <th>629</th>\n",
       "      <td>RU</td>\n",
       "      <td>0.178571</td>\n",
       "      <td>0.0</td>\n",
       "      <td>0.019009</td>\n",
       "      <td>0.538462</td>\n",
       "      <td>202212</td>\n",
       "    </tr>\n",
       "  </tbody>\n",
       "</table>\n",
       "</div>"
      ],
      "text/plain": [
       "    country  degree_centrality  vulnerability  exportation_strength   hubness  \\\n",
       "13       RU           0.280000            0.0              0.046314  0.581395   \n",
       "65       RU           0.306122            0.0              0.046614  0.590361   \n",
       "113      RU           0.269231            0.0              0.044201  0.571429   \n",
       "169      RU           0.259259            0.0              0.041693  0.568421   \n",
       "224      RU           0.232143            0.0              0.034083  0.549020   \n",
       "280      RU           0.222222            0.0              0.033035  0.556701   \n",
       "335      RU           0.185185            0.0              0.030648  0.540000   \n",
       "393      RU           0.192982            0.0              0.027809  0.537736   \n",
       "454      RU           0.181818            0.0              0.022698  0.539216   \n",
       "515      RU           0.200000            0.0              0.022992  0.544554   \n",
       "573      RU           0.206897            0.0              0.021359  0.552381   \n",
       "629      RU           0.178571            0.0              0.019009  0.538462   \n",
       "\n",
       "     period  \n",
       "13   202201  \n",
       "65   202202  \n",
       "113  202203  \n",
       "169  202204  \n",
       "224  202205  \n",
       "280  202206  \n",
       "335  202207  \n",
       "393  202208  \n",
       "454  202209  \n",
       "515  202210  \n",
       "573  202211  \n",
       "629  202212  "
      ]
     },
     "execution_count": 5,
     "metadata": {},
     "output_type": "execute_result"
    }
   ],
   "source": [
    "df_country_metrics.head(12)"
   ]
  },
  {
   "cell_type": "code",
   "execution_count": 6,
   "id": "0b75e51f-aad8-4469-9a76-7138245b9047",
   "metadata": {
    "tags": []
   },
   "outputs": [
    {
     "data": {
      "image/png": "[encoded data removed]",
      "text/plain": [
       "<Figure size 1000x600 with 1 Axes>"
      ]
     },
     "metadata": {},
     "output_type": "display_data"
    }
   ],
   "source": [
    "plt.figure(figsize=(10,6))\n",
    "plt.plot(df_country_metrics[\"period\"], df_country_metrics[\"degree_centrality\"])\n",
    "plt.title('Russia centrality')\n",
    "plt.xlabel('Time')\n",
    "plt.xticks(rotation=45)\n",
    "plt.ylabel('Centrality')\n",
    "plt.show()"
   ]
  }
 ],
 "metadata": {
  "kernelspec": {
   "display_name": "Python 3 (ipykernel)",
   "language": "python",
   "name": "python3"
  },
  "language_info": {
   "codemirror_mode": {
    "name": "ipython",
    "version": 3
   },
   "file_extension": ".py",
   "mimetype": "text/x-python",
   "name": "python",
   "nbconvert_exporter": "python",
   "pygments_lexer": "ipython3",
   "version": "3.11.5"
  }
 },
 "nbformat": 4,
 "nbformat_minor": 5
}
