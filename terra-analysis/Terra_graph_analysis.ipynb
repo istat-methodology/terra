{
 "cells": [
  {
   "cell_type": "code",
   "execution_count": 1,
   "id": "3fb99a7d-46a2-4631-bd8c-9bba4774ddaa",
   "metadata": {
    "tags": []
   },
   "outputs": [],
   "source": [
    "import pandas as pd\n",
    "import matplotlib.pyplot as plt\n",
    "from terra_modules.terra_utils import get_graph_metrics"
   ]
  },
  {
   "cell_type": "markdown",
   "id": "6cef096e-6ab6-4c32-83f2-1dc57005a103",
   "metadata": {},
   "source": [
    "## Parameters"
   ]
  },
  {
   "cell_type": "code",
   "execution_count": 2,
   "id": "65d1392f-0a5d-407d-bfd4-ff8466196aa9",
   "metadata": {
    "tags": []
   },
   "outputs": [],
   "source": [
    "# Dataset Graph EU - Extra EU\n",
    "# dataset = \"Extra\"\n",
    "\n",
    "# Dataset Graph EU - World\n",
    "dataset = \"Intra\"\n",
    "\n",
    "# Monthly data  \n",
    "frequency = \"month\"\n",
    "\n",
    "# Quarterly data\n",
    "# frequency = \"quarter\"\n",
    "\n",
    "start_date = \"2022-01\"\n",
    "end_date   = \"2022-12\"\n",
    "\n",
    "# Products Graph EU - Extra EU\n",
    "# https://api.terra.istat.it/cls/productsExtra?lang=en\n",
    "\n",
    "# Products Graph EU - World\n",
    "# https://api.terra.istat.it/cls/productsIntra?lang=en\n",
    "\n",
    "# Means of transport Graph EU - Extra EU\n",
    "# https://api.terra.istat.it/cls/transports?lang=en\n",
    "\n",
    "\n",
    "# Base payload\n",
    "base_payload = {\n",
    "    \"tg_perc\": \"80\",\n",
    "    \"listaMezzi\": [0, 1, 2, 3, 4, 5, 7, 8, 9], # means of transport\n",
    "    \"product\": \"TOT\",\n",
    "    \"flow\": 1, #import = 1, #export = 2\n",
    "    \"weight_flag\": True,\n",
    "    \"pos\": \"None\",\n",
    "    \"selezioneMezziEdges\": \"None\"\n",
    "}\n"
   ]
  },
  {
   "cell_type": "markdown",
   "id": "53654505-8f74-4f59-a228-fbd09769fc7e",
   "metadata": {},
   "source": [
    "## Get graph metrics from TERRA endpoints, then build the metrics dataframe"
   ]
  },
  {
   "cell_type": "code",
   "execution_count": 3,
   "id": "eb7d2677-a889-4a7a-81a2-64dd7dfe8eb8",
   "metadata": {
    "tags": []
   },
   "outputs": [
    {
     "name": "stdout",
     "output_type": "stream",
     "text": [
      "Retrieving Intra data\n",
      "Endpoint: https://api.terra.istat.it/graph/graphIntraMonth\n",
      "Time points: ['202201', '202202', '202203', '202204', '202205', '202206', '202207', '202208', '202209', '202210', '202211', '202212']\n",
      "Starting data retrieval...\n",
      "   Retrieving data for month 202201\n",
      "   Retrieving data for month 202202\n",
      "   Retrieving data for month 202203\n",
      "   Retrieving data for month 202204\n",
      "   Retrieving data for month 202205\n",
      "   Retrieving data for month 202206\n",
      "   Retrieving data for month 202207\n",
      "   Retrieving data for month 202208\n",
      "   Retrieving data for month 202209\n",
      "   Retrieving data for month 202210\n",
      "   Retrieving data for month 202211\n",
      "   Retrieving data for month 202212\n",
      "... done!\n"
     ]
    }
   ],
   "source": [
    "df_metrics = get_graph_metrics(dataset, base_payload, start_date, end_date, frequency)"
   ]
  },
  {
   "cell_type": "code",
   "execution_count": 4,
   "metadata": {},
   "outputs": [],
   "source": [
    "df_metrics.to_csv(\"output/metrics.csv\", index = False, sep = \";\", decimal= \",\")"
   ]
  },
  {
   "cell_type": "code",
   "execution_count": 10,
   "metadata": {},
   "outputs": [
    {
     "data": {
      "text/html": [
       "<div>\n",
       "<style scoped>\n",
       "    .dataframe tbody tr th:only-of-type {\n",
       "        vertical-align: middle;\n",
       "    }\n",
       "\n",
       "    .dataframe tbody tr th {\n",
       "        vertical-align: top;\n",
       "    }\n",
       "\n",
       "    .dataframe thead th {\n",
       "        text-align: right;\n",
       "    }\n",
       "</style>\n",
       "<table border=\"1\" class=\"dataframe\">\n",
       "  <thead>\n",
       "    <tr style=\"text-align: right;\">\n",
       "      <th></th>\n",
       "      <th>country</th>\n",
       "      <th>degree_centrality</th>\n",
       "      <th>vulnerability</th>\n",
       "      <th>exportation_strength</th>\n",
       "      <th>hubness</th>\n",
       "      <th>period</th>\n",
       "    </tr>\n",
       "  </thead>\n",
       "  <tbody>\n",
       "    <tr>\n",
       "      <th>0</th>\n",
       "      <td>NL</td>\n",
       "      <td>0.82</td>\n",
       "      <td>0.44</td>\n",
       "      <td>0.10</td>\n",
       "      <td>0.69</td>\n",
       "      <td>202201</td>\n",
       "    </tr>\n",
       "    <tr>\n",
       "      <th>1</th>\n",
       "      <td>DE</td>\n",
       "      <td>1.18</td>\n",
       "      <td>0.24</td>\n",
       "      <td>0.16</td>\n",
       "      <td>0.85</td>\n",
       "      <td>202201</td>\n",
       "    </tr>\n",
       "    <tr>\n",
       "      <th>2</th>\n",
       "      <td>CN</td>\n",
       "      <td>0.34</td>\n",
       "      <td>0.00</td>\n",
       "      <td>0.12</td>\n",
       "      <td>0.60</td>\n",
       "      <td>202201</td>\n",
       "    </tr>\n",
       "    <tr>\n",
       "      <th>3</th>\n",
       "      <td>FR</td>\n",
       "      <td>0.70</td>\n",
       "      <td>0.52</td>\n",
       "      <td>0.05</td>\n",
       "      <td>0.65</td>\n",
       "      <td>202201</td>\n",
       "    </tr>\n",
       "    <tr>\n",
       "      <th>4</th>\n",
       "      <td>BE</td>\n",
       "      <td>0.58</td>\n",
       "      <td>0.62</td>\n",
       "      <td>0.06</td>\n",
       "      <td>0.63</td>\n",
       "      <td>202201</td>\n",
       "    </tr>\n",
       "  </tbody>\n",
       "</table>\n",
       "</div>"
      ],
      "text/plain": [
       "  country  degree_centrality  vulnerability  exportation_strength  hubness  \\\n",
       "0      NL               0.82           0.44                  0.10     0.69   \n",
       "1      DE               1.18           0.24                  0.16     0.85   \n",
       "2      CN               0.34           0.00                  0.12     0.60   \n",
       "3      FR               0.70           0.52                  0.05     0.65   \n",
       "4      BE               0.58           0.62                  0.06     0.63   \n",
       "\n",
       "   period  \n",
       "0  202201  \n",
       "1  202201  \n",
       "2  202201  \n",
       "3  202201  \n",
       "4  202201  "
      ]
     },
     "execution_count": 10,
     "metadata": {},
     "output_type": "execute_result"
    }
   ],
   "source": [
    "df_metrics.head()"
   ]
  },
  {
   "cell_type": "code",
   "execution_count": 7,
   "metadata": {},
   "outputs": [
    {
     "data": {
      "text/plain": [
       "(662, 6)"
      ]
     },
     "execution_count": 7,
     "metadata": {},
     "output_type": "execute_result"
    }
   ],
   "source": [
    "df_metrics.shape"
   ]
  },
  {
   "cell_type": "code",
   "execution_count": 20,
   "id": "de1ad384-6ae7-40ed-826e-95881c197bd4",
   "metadata": {
    "tags": []
   },
   "outputs": [],
   "source": [
    "countries = df_metrics[\"country\"].unique()"
   ]
  },
  {
   "cell_type": "code",
   "execution_count": 21,
   "id": "470f434a-4546-4474-9501-ecaa3de9cab0",
   "metadata": {
    "tags": []
   },
   "outputs": [
    {
     "data": {
      "text/plain": [
       "array(['US', 'ES', 'FR', 'RU', 'QA', 'IT', 'BE', 'NG', 'DZ', 'HR', 'PT',\n",
       "       'GR', 'EG', 'AO', 'NL', 'GQ', 'GB', 'LT', 'TT', 'NO', 'BG'],\n",
       "      dtype=object)"
      ]
     },
     "metadata": {},
     "output_type": "display_data"
    }
   ],
   "source": [
    "display(countries)"
   ]
  },
  {
   "cell_type": "code",
   "execution_count": 8,
   "id": "3e20fcba-650b-42cf-87cb-11bead00f4d5",
   "metadata": {
    "tags": []
   },
   "outputs": [],
   "source": [
    "df_country_metrics = df_metrics[df_metrics[\"country\"]==\"RU\"]"
   ]
  },
  {
   "cell_type": "code",
   "execution_count": 8,
   "id": "57b03b5e-501b-42e6-9d85-c97df82e658e",
   "metadata": {
    "tags": []
   },
   "outputs": [
    {
     "data": {
      "text/html": [
       "<div>\n",
       "<style scoped>\n",
       "    .dataframe tbody tr th:only-of-type {\n",
       "        vertical-align: middle;\n",
       "    }\n",
       "\n",
       "    .dataframe tbody tr th {\n",
       "        vertical-align: top;\n",
       "    }\n",
       "\n",
       "    .dataframe thead th {\n",
       "        text-align: right;\n",
       "    }\n",
       "</style>\n",
       "<table border=\"1\" class=\"dataframe\">\n",
       "  <thead>\n",
       "    <tr style=\"text-align: right;\">\n",
       "      <th></th>\n",
       "      <th>country</th>\n",
       "      <th>degree_centrality</th>\n",
       "      <th>vulnerability</th>\n",
       "      <th>exportation_strength</th>\n",
       "      <th>hubness</th>\n",
       "      <th>period</th>\n",
       "    </tr>\n",
       "  </thead>\n",
       "  <tbody>\n",
       "    <tr>\n",
       "      <th>13</th>\n",
       "      <td>RU</td>\n",
       "      <td>0.28</td>\n",
       "      <td>0.0</td>\n",
       "      <td>0.05</td>\n",
       "      <td>0.58</td>\n",
       "      <td>202201</td>\n",
       "    </tr>\n",
       "    <tr>\n",
       "      <th>14</th>\n",
       "      <td>RU</td>\n",
       "      <td>0.31</td>\n",
       "      <td>0.0</td>\n",
       "      <td>0.05</td>\n",
       "      <td>0.59</td>\n",
       "      <td>202202</td>\n",
       "    </tr>\n",
       "    <tr>\n",
       "      <th>12</th>\n",
       "      <td>RU</td>\n",
       "      <td>0.27</td>\n",
       "      <td>0.0</td>\n",
       "      <td>0.04</td>\n",
       "      <td>0.57</td>\n",
       "      <td>202203</td>\n",
       "    </tr>\n",
       "    <tr>\n",
       "      <th>15</th>\n",
       "      <td>RU</td>\n",
       "      <td>0.26</td>\n",
       "      <td>0.0</td>\n",
       "      <td>0.04</td>\n",
       "      <td>0.57</td>\n",
       "      <td>202204</td>\n",
       "    </tr>\n",
       "    <tr>\n",
       "      <th>15</th>\n",
       "      <td>RU</td>\n",
       "      <td>0.23</td>\n",
       "      <td>0.0</td>\n",
       "      <td>0.03</td>\n",
       "      <td>0.55</td>\n",
       "      <td>202205</td>\n",
       "    </tr>\n",
       "    <tr>\n",
       "      <th>14</th>\n",
       "      <td>RU</td>\n",
       "      <td>0.22</td>\n",
       "      <td>0.0</td>\n",
       "      <td>0.03</td>\n",
       "      <td>0.56</td>\n",
       "      <td>202206</td>\n",
       "    </tr>\n",
       "    <tr>\n",
       "      <th>14</th>\n",
       "      <td>RU</td>\n",
       "      <td>0.19</td>\n",
       "      <td>0.0</td>\n",
       "      <td>0.03</td>\n",
       "      <td>0.54</td>\n",
       "      <td>202207</td>\n",
       "    </tr>\n",
       "    <tr>\n",
       "      <th>17</th>\n",
       "      <td>RU</td>\n",
       "      <td>0.19</td>\n",
       "      <td>0.0</td>\n",
       "      <td>0.03</td>\n",
       "      <td>0.54</td>\n",
       "      <td>202208</td>\n",
       "    </tr>\n",
       "    <tr>\n",
       "      <th>20</th>\n",
       "      <td>RU</td>\n",
       "      <td>0.18</td>\n",
       "      <td>0.0</td>\n",
       "      <td>0.02</td>\n",
       "      <td>0.54</td>\n",
       "      <td>202209</td>\n",
       "    </tr>\n",
       "    <tr>\n",
       "      <th>25</th>\n",
       "      <td>RU</td>\n",
       "      <td>0.20</td>\n",
       "      <td>0.0</td>\n",
       "      <td>0.02</td>\n",
       "      <td>0.54</td>\n",
       "      <td>202210</td>\n",
       "    </tr>\n",
       "    <tr>\n",
       "      <th>27</th>\n",
       "      <td>RU</td>\n",
       "      <td>0.21</td>\n",
       "      <td>0.0</td>\n",
       "      <td>0.02</td>\n",
       "      <td>0.55</td>\n",
       "      <td>202211</td>\n",
       "    </tr>\n",
       "    <tr>\n",
       "      <th>24</th>\n",
       "      <td>RU</td>\n",
       "      <td>0.18</td>\n",
       "      <td>0.0</td>\n",
       "      <td>0.02</td>\n",
       "      <td>0.54</td>\n",
       "      <td>202212</td>\n",
       "    </tr>\n",
       "  </tbody>\n",
       "</table>\n",
       "</div>"
      ],
      "text/plain": [
       "   country  degree_centrality  vulnerability  exportation_strength  hubness  \\\n",
       "13      RU               0.28            0.0                  0.05     0.58   \n",
       "14      RU               0.31            0.0                  0.05     0.59   \n",
       "12      RU               0.27            0.0                  0.04     0.57   \n",
       "15      RU               0.26            0.0                  0.04     0.57   \n",
       "15      RU               0.23            0.0                  0.03     0.55   \n",
       "14      RU               0.22            0.0                  0.03     0.56   \n",
       "14      RU               0.19            0.0                  0.03     0.54   \n",
       "17      RU               0.19            0.0                  0.03     0.54   \n",
       "20      RU               0.18            0.0                  0.02     0.54   \n",
       "25      RU               0.20            0.0                  0.02     0.54   \n",
       "27      RU               0.21            0.0                  0.02     0.55   \n",
       "24      RU               0.18            0.0                  0.02     0.54   \n",
       "\n",
       "    period  \n",
       "13  202201  \n",
       "14  202202  \n",
       "12  202203  \n",
       "15  202204  \n",
       "15  202205  \n",
       "14  202206  \n",
       "14  202207  \n",
       "17  202208  \n",
       "20  202209  \n",
       "25  202210  \n",
       "27  202211  \n",
       "24  202212  "
      ]
     },
     "execution_count": 8,
     "metadata": {},
     "output_type": "execute_result"
    }
   ],
   "source": [
    "df_country_metrics.head(12)"
   ]
  },
  {
   "cell_type": "code",
   "execution_count": 9,
   "id": "0b75e51f-aad8-4469-9a76-7138245b9047",
   "metadata": {
    "tags": []
   },
   "outputs": [
    {
     "data": {
      "image/png": "[encoded data removed]",
      "text/plain": [
       "<Figure size 1000x600 with 1 Axes>"
      ]
     },
     "metadata": {},
     "output_type": "display_data"
    }
   ],
   "source": [
    "plt.figure(figsize=(10,6))\n",
    "plt.plot(df_country_metrics[\"period\"], df_country_metrics[\"degree_centrality\"])\n",
    "plt.title('Russia centrality')\n",
    "plt.xlabel('Time')\n",
    "plt.xticks(rotation=45)\n",
    "plt.ylabel('Centrality')\n",
    "plt.show()"
   ]
  }
 ],
 "metadata": {
  "kernelspec": {
   "display_name": "Python 3 (ipykernel)",
   "language": "python",
   "name": "python3"
  },
  "language_info": {
   "codemirror_mode": {
    "name": "ipython",
    "version": 3
   },
   "file_extension": ".py",
   "mimetype": "text/x-python",
   "name": "python",
   "nbconvert_exporter": "python",
   "pygments_lexer": "ipython3",
   "version": "3.11.5"
  }
 },
 "nbformat": 4,
 "nbformat_minor": 5
}
