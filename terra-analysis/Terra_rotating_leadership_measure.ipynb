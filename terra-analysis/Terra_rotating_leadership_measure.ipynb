{
 "cells": [
  {
   "cell_type": "code",
   "execution_count": null,
   "id": "3fb99a7d-46a2-4631-bd8c-9bba4774ddaa",
   "metadata": {
    "tags": []
   },
   "outputs": [],
   "source": [
    "import pandas as pd\n",
    "import matplotlib.pyplot as plt\n",
    "from terra_modules.terra_utils import get_graph_metrics"
   ]
  },
  {
   "cell_type": "markdown",
   "id": "6cef096e-6ab6-4c32-83f2-1dc57005a103",
   "metadata": {},
   "source": [
    "## Parameters"
   ]
  },
  {
   "cell_type": "code",
   "execution_count": null,
   "id": "65d1392f-0a5d-407d-bfd4-ff8466196aa9",
   "metadata": {
    "tags": []
   },
   "outputs": [],
   "source": [
    "# Dataset Graph EU - Extra EU\n",
    "# dataset = \"Extra\"\n",
    "\n",
    "# Dataset Graph EU - World\n",
    "dataset = \"Intra\"\n",
    "\n",
    "# Monthly data  \n",
    "frequency = \"month\"\n",
    "\n",
    "# Quarterly data\n",
    "# frequency = \"quarter\"\n",
    "\n",
    "start_date = \"2019-08\"\n",
    "end_date   = \"2020-12\"\n",
    "\n",
    "# Products Graph EU - Extra EU\n",
    "# https://api.terra.istat.it/cls/productsExtra?lang=en\n",
    "\n",
    "# Products Graph EU - World\n",
    "# https://api.terra.istat.it/cls/productsIntra?lang=en\n",
    "\n",
    "# Means of transport Graph EU - Extra EU\n",
    "# https://api.terra.istat.it/cls/transports?lang=en\n",
    "\n",
    "\n",
    "# Base payload\n",
    "base_payload = {\n",
    "    \"percentage\": \"50\",\n",
    "    \"transport\": [0, 1, 2, 3, 4, 5, 7, 8, 9], # means of transport\n",
    "    \"product\": \"TOT\",\n",
    "    \"flow\": 0, #import = 1, #export = 2\n",
    "    \"weight\": True,\n",
    "    \"position\": None,\n",
    "    \"edges\": None,\n",
    "    \"collapse\": True,\n",
    "}"
   ]
  },
  {
   "cell_type": "markdown",
   "id": "53654505-8f74-4f59-a228-fbd09769fc7e",
   "metadata": {},
   "source": [
    "## Get graph metrics from TERRA endpoints, then build the metrics dataframe"
   ]
  },
  {
   "cell_type": "code",
   "execution_count": null,
   "id": "eb7d2677-a889-4a7a-81a2-64dd7dfe8eb8",
   "metadata": {
    "tags": []
   },
   "outputs": [],
   "source": [
    "df_metrics = get_graph_metrics(dataset, base_payload, start_date, end_date, frequency)"
   ]
  },
  {
   "cell_type": "code",
   "execution_count": null,
   "id": "8d08e6c6",
   "metadata": {},
   "outputs": [],
   "source": [
    "df_pivot = df_metrics.pivot(index='period', columns='country', values='degree_centrality')\n",
    "\n",
    "# Plotting the time series for each group\n",
    "df_pivot.plot(figsize=(10, 6))\n",
    "plt.title('Time Series Data by Group')\n",
    "plt.xlabel('Time')\n",
    "plt.ylabel('Value')\n",
    "plt.legend(title='Group')\n",
    "plt.grid(True)\n",
    "plt.show()"
   ]
  },
  {
   "cell_type": "code",
   "execution_count": null,
   "metadata": {},
   "outputs": [],
   "source": [
    "df_metrics.head()"
   ]
  },
  {
   "cell_type": "code",
   "execution_count": null,
   "metadata": {},
   "outputs": [],
   "source": [
    "df_metrics.shape"
   ]
  },
  {
   "cell_type": "code",
   "execution_count": null,
   "id": "de1ad384-6ae7-40ed-826e-95881c197bd4",
   "metadata": {
    "tags": []
   },
   "outputs": [],
   "source": [
    "countries = df_metrics[\"country\"].unique()"
   ]
  },
  {
   "cell_type": "code",
   "execution_count": null,
   "id": "470f434a-4546-4474-9501-ecaa3de9cab0",
   "metadata": {
    "tags": []
   },
   "outputs": [],
   "source": [
    "display(countries)"
   ]
  },
  {
   "cell_type": "code",
   "execution_count": null,
   "id": "3e20fcba-650b-42cf-87cb-11bead00f4d5",
   "metadata": {
    "tags": []
   },
   "outputs": [],
   "source": [
    "df_country_metrics = df_metrics[df_metrics[\"country\"]==\"RU\"]"
   ]
  },
  {
   "cell_type": "code",
   "execution_count": null,
   "id": "57b03b5e-501b-42e6-9d85-c97df82e658e",
   "metadata": {
    "tags": []
   },
   "outputs": [],
   "source": [
    "df_country_metrics.head(12)"
   ]
  },
  {
   "cell_type": "code",
   "execution_count": null,
   "id": "0b75e51f-aad8-4469-9a76-7138245b9047",
   "metadata": {
    "tags": []
   },
   "outputs": [],
   "source": [
    "plt.figure(figsize=(10,6))\n",
    "plt.plot(df_country_metrics[\"period\"], df_country_metrics[\"degree_centrality\"])\n",
    "plt.title('Russia centrality')\n",
    "plt.xlabel('Time')\n",
    "plt.xticks(rotation=45)\n",
    "plt.ylabel('Centrality')\n",
    "plt.show()"
   ]
  }
 ],
 "metadata": {
  "kernelspec": {
   "display_name": "Python 3 (ipykernel)",
   "language": "python",
   "name": "python3"
  },
  "language_info": {
   "codemirror_mode": {
    "name": "ipython",
    "version": 3
   },
   "file_extension": ".py",
   "mimetype": "text/x-python",
   "name": "python",
   "nbconvert_exporter": "python",
   "pygments_lexer": "ipython3",
   "version": "3.10.0"
  }
 },
 "nbformat": 4,
 "nbformat_minor": 5
}
