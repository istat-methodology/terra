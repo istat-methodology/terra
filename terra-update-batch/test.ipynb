{
 "cells": [
  {
   "cell_type": "code",
   "execution_count": 2,
   "metadata": {},
   "outputs": [],
   "source": [
    "counts = {'count_downloaded': 0, \n",
    "                  'count_extracted': 0,\n",
    "                  'count_errors': 0}"
   ]
  },
  {
   "cell_type": "code",
   "execution_count": 3,
   "metadata": {},
   "outputs": [
    {
     "data": {
      "text/plain": [
       "0"
      ]
     },
     "execution_count": 3,
     "metadata": {},
     "output_type": "execute_result"
    }
   ],
   "source": [
    "counts['count_downloaded']"
   ]
  },
  {
   "cell_type": "code",
   "execution_count": 5,
   "metadata": {},
   "outputs": [],
   "source": [
    "from datetime import datetime\n",
    "\n",
    "processing_day = datetime.today()"
   ]
  },
  {
   "cell_type": "code",
   "execution_count": 10,
   "metadata": {},
   "outputs": [
    {
     "name": "stdout",
     "output_type": "stream",
     "text": [
      "202401\n"
     ]
    }
   ],
   "source": [
    "this_year_month = processing_day.year * 100 + processing_day.month\n",
    "print(this_year_month)"
   ]
  },
  {
   "cell_type": "code",
   "execution_count": 16,
   "metadata": {},
   "outputs": [
    {
     "data": {
      "text/plain": [
       "datetime.datetime(2024, 1, 1, 0, 0)"
      ]
     },
     "execution_count": 16,
     "metadata": {},
     "output_type": "execute_result"
    }
   ],
   "source": [
    "datetime.strptime(str(this_year_month), \"%Y%m\")"
   ]
  },
  {
   "cell_type": "code",
   "execution_count": 12,
   "metadata": {},
   "outputs": [
    {
     "data": {
      "text/plain": [
       "datetime.datetime(2024, 1, 1, 0, 0)"
      ]
     },
     "execution_count": 12,
     "metadata": {},
     "output_type": "execute_result"
    }
   ],
   "source": [
    "this_year = processing_day.year\n",
    "this_month = \"%02d\" % processing_day.month\n",
    "datetime.strptime(str(this_year) + \"-\" + str(this_month), \"%Y-%m\")"
   ]
  },
  {
   "cell_type": "code",
   "execution_count": 7,
   "metadata": {},
   "outputs": [],
   "source": [
    "import os\n",
    "import urllib.request\n",
    "import py7zr\n",
    "from functools import partial\n",
    "import multiprocessing as mp\n",
    "from datetime import datetime\n",
    "from dateutil.relativedelta import relativedelta\n",
    "\n",
    "# TERRA MODULES\n",
    "import params\n",
    "from modules import cosmoUtility as cUtil\n",
    "\n",
    "TIME_INTERVAL_M = 36\n",
    "OFFSET_M = 15\n",
    "\n",
    "processing_day = datetime.today()\n",
    "\n",
    "this_year = processing_day.year\n",
    "this_month = \"%02d\" % processing_day.month\n",
    "datetime.strptime(str(this_year) + \"-\" + str(this_month), \"%Y-%m\")\n",
    "\n",
    "start_data_load = (\n",
    "    datetime.strptime(str(this_year) + \"-\" + str(this_month), \"%Y-%m\")\n",
    "    - relativedelta(months=OFFSET_M)\n",
    "    - relativedelta(months=TIME_INTERVAL_M - 1)\n",
    ")\n",
    "end_data_load = datetime.strptime(\n",
    "    str(this_year) + \"-\" + str(this_month), \"%Y-%m\"\n",
    ") - relativedelta(months=OFFSET_M)"
   ]
  },
  {
   "cell_type": "code",
   "execution_count": 9,
   "metadata": {},
   "outputs": [
    {
     "name": "stdout",
     "output_type": "stream",
     "text": [
      "11 2019\n",
      "12 2019\n",
      "01 2020\n",
      "02 2020\n",
      "03 2020\n",
      "04 2020\n",
      "05 2020\n",
      "06 2020\n",
      "07 2020\n",
      "08 2020\n",
      "09 2020\n",
      "10 2020\n",
      "11 2020\n",
      "12 2020\n",
      "01 2021\n",
      "02 2021\n",
      "03 2021\n",
      "04 2021\n",
      "05 2021\n",
      "06 2021\n",
      "07 2021\n",
      "08 2021\n",
      "09 2021\n",
      "10 2021\n",
      "11 2021\n",
      "12 2021\n",
      "01 2022\n",
      "02 2022\n",
      "03 2022\n",
      "04 2022\n",
      "05 2022\n",
      "06 2022\n",
      "07 2022\n",
      "08 2022\n",
      "09 2022\n",
      "10 2022\n"
     ]
    }
   ],
   "source": [
    "for current_month, current_year in cUtil.month_iter(\n",
    "                start_data_load.month, start_data_load.year, end_data_load.month, end_data_load.year\n",
    "            ):\n",
    "    print(current_month, current_year)"
   ]
  },
  {
   "cell_type": "code",
   "execution_count": 11,
   "metadata": {},
   "outputs": [
    {
     "data": {
      "text/plain": [
       "'transport'"
      ]
     },
     "execution_count": 11,
     "metadata": {},
     "output_type": "execute_result"
    }
   ],
   "source": [
    "PREFIX_MAP = {\n",
    "  \"tr\": \"transport\",\n",
    "  \"full\": \"product\"\n",
    "}\n",
    "\n",
    "PREFIX_MAP[\"tr\"]"
   ]
  }
 ],
 "metadata": {
  "kernelspec": {
   "display_name": "Python 3",
   "language": "python",
   "name": "python3"
  },
  "language_info": {
   "codemirror_mode": {
    "name": "ipython",
    "version": 3
   },
   "file_extension": ".py",
   "mimetype": "text/x-python",
   "name": "python",
   "nbconvert_exporter": "python",
   "pygments_lexer": "ipython3",
   "version": "3.11.2"
  }
 },
 "nbformat": 4,
 "nbformat_minor": 2
}
